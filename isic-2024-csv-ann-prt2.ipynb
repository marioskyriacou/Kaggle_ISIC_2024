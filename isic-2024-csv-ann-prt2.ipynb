{
 "cells": [
  {
   "cell_type": "markdown",
   "id": "352bb0d3",
   "metadata": {
    "papermill": {
     "duration": 0.009017,
     "end_time": "2025-01-14T06:56:55.772190",
     "exception": false,
     "start_time": "2025-01-14T06:56:55.763173",
     "status": "completed"
    },
    "tags": []
   },
   "source": [
    "# Imports "
   ]
  },
  {
   "cell_type": "code",
   "execution_count": 1,
   "id": "5f65fb8d",
   "metadata": {
    "_cell_guid": "b1076dfc-b9ad-4769-8c92-a6c4dae69d19",
    "_uuid": "8f2839f25d086af736a60e9eeb907d3b93b6e0e5",
    "execution": {
     "iopub.execute_input": "2025-01-14T06:56:55.788596Z",
     "iopub.status.busy": "2025-01-14T06:56:55.788162Z",
     "iopub.status.idle": "2025-01-14T06:57:15.941567Z",
     "shell.execute_reply": "2025-01-14T06:57:15.940326Z"
    },
    "papermill": {
     "duration": 20.164529,
     "end_time": "2025-01-14T06:57:15.944329",
     "exception": false,
     "start_time": "2025-01-14T06:56:55.779800",
     "status": "completed"
    },
    "tags": []
   },
   "outputs": [
    {
     "name": "stdout",
     "output_type": "stream",
     "text": [
      "Numpy: 1.26.4\n",
      "Pandas: 2.2.2\n",
      "Sklearn: 1.2.2\n",
      "Matplotlib: 3.7.5\n",
      "TensorFlow:2.16.1\n",
      "Imb-Learn:0.12.3\n"
     ]
    }
   ],
   "source": [
    "import numpy as np\n",
    "import pandas as pd\n",
    "import sklearn\n",
    "import time \n",
    "import matplotlib\n",
    "import tensorflow as tf\n",
    "import random\n",
    "import seaborn as sns \n",
    "import imblearn\n",
    "\n",
    "print(f'Numpy: {np.__version__}')\n",
    "print(f'Pandas: {pd.__version__}')\n",
    "print(f'Sklearn: {sklearn.__version__}')\n",
    "print(f'Matplotlib: {matplotlib.__version__}')\n",
    "print(f'TensorFlow:{tf.__version__}')\n",
    "print(f'Imb-Learn:{imblearn.__version__}')\n",
    "\n",
    "import warnings\n",
    "warnings.filterwarnings('ignore')"
   ]
  },
  {
   "cell_type": "code",
   "execution_count": 2,
   "id": "0f9fdfee",
   "metadata": {
    "execution": {
     "iopub.execute_input": "2025-01-14T06:57:15.961025Z",
     "iopub.status.busy": "2025-01-14T06:57:15.960221Z",
     "iopub.status.idle": "2025-01-14T06:57:16.060422Z",
     "shell.execute_reply": "2025-01-14T06:57:16.058980Z"
    },
    "papermill": {
     "duration": 0.112019,
     "end_time": "2025-01-14T06:57:16.063649",
     "exception": false,
     "start_time": "2025-01-14T06:57:15.951630",
     "status": "completed"
    },
    "tags": []
   },
   "outputs": [],
   "source": [
    "import matplotlib.pyplot as plt\n",
    "\n",
    "from sklearn.preprocessing import StandardScaler\n",
    "from sklearn.model_selection import train_test_split\n",
    "from sklearn.metrics import confusion_matrix, classification_report, balanced_accuracy_score, accuracy_score\n",
    "\n",
    "# DNN \n",
    "from sklearn.utils import class_weight\n",
    "from sklearn.metrics import classification_report, confusion_matrix\n",
    "from tensorflow.keras.models import Sequential\n",
    "from tensorflow.keras.layers import Dense\n",
    "from tensorflow.keras.callbacks import EarlyStopping\n",
    "from tensorflow.keras.losses import BinaryCrossentropy, categorical_crossentropy\n",
    "\n",
    "# Validation metrics\n",
    "from sklearn.model_selection import StratifiedKFold, KFold\n",
    "from sklearn.metrics import make_scorer, precision_score, recall_score, f1_score, roc_auc_score\n",
    "from sklearn.model_selection import cross_validate\n",
    "from sklearn.metrics import roc_curve, auc\n",
    "\n",
    "# Sampling \n",
    "from imblearn.over_sampling import SMOTE"
   ]
  },
  {
   "cell_type": "markdown",
   "id": "442035b0",
   "metadata": {
    "papermill": {
     "duration": 0.007007,
     "end_time": "2025-01-14T06:57:16.078386",
     "exception": false,
     "start_time": "2025-01-14T06:57:16.071379",
     "status": "completed"
    },
    "tags": []
   },
   "source": [
    "# Varibales "
   ]
  },
  {
   "cell_type": "code",
   "execution_count": 3,
   "id": "25382c97",
   "metadata": {
    "execution": {
     "iopub.execute_input": "2025-01-14T06:57:16.094107Z",
     "iopub.status.busy": "2025-01-14T06:57:16.093658Z",
     "iopub.status.idle": "2025-01-14T06:57:16.099086Z",
     "shell.execute_reply": "2025-01-14T06:57:16.097923Z"
    },
    "papermill": {
     "duration": 0.016329,
     "end_time": "2025-01-14T06:57:16.101570",
     "exception": false,
     "start_time": "2025-01-14T06:57:16.085241",
     "status": "completed"
    },
    "tags": []
   },
   "outputs": [],
   "source": [
    "train_path = '/kaggle/input/isic-2024-challenge/train-metadata.csv'\n",
    "test_path = '/kaggle/input/isic-2024-challenge/test-metadata.csv'"
   ]
  },
  {
   "cell_type": "code",
   "execution_count": 4,
   "id": "b9976c09",
   "metadata": {
    "execution": {
     "iopub.execute_input": "2025-01-14T06:57:16.117513Z",
     "iopub.status.busy": "2025-01-14T06:57:16.117117Z",
     "iopub.status.idle": "2025-01-14T06:57:16.123868Z",
     "shell.execute_reply": "2025-01-14T06:57:16.122476Z"
    },
    "papermill": {
     "duration": 0.017709,
     "end_time": "2025-01-14T06:57:16.126271",
     "exception": false,
     "start_time": "2025-01-14T06:57:16.108562",
     "status": "completed"
    },
    "tags": []
   },
   "outputs": [],
   "source": [
    "# common columns\n",
    "#train_cols_set, test_cols_set = set(train_data.columns), set(test_data.columns)\n",
    "#cols = list(test_cols_set.intersection(train_cols_set))\n",
    "\n",
    "common_cols = ['sex', 'tbp_lv_deltaLB', 'tbp_lv_location_simple', 'tbp_lv_areaMM2', 'tbp_lv_deltaL', 'tbp_lv_norm_border', 'tbp_lv_A',\n",
    " 'tbp_lv_B', 'tbp_lv_symm_2axis', 'tbp_lv_L', 'tbp_lv_location', 'tbp_lv_deltaLBnorm', 'tbp_lv_radial_color_std_max',\n",
    " 'tbp_lv_Lext',  'tbp_lv_Bext', 'tbp_lv_H', 'tbp_lv_perimeterMM', 'tbp_lv_stdL', 'tbp_lv_minorAxisMM', 'tbp_lv_stdLExt',\n",
    " 'tbp_lv_y', 'tbp_lv_color_std_mean', 'clin_size_long_diam_mm', 'age_approx', 'tbp_lv_eccentricity', 'tbp_lv_deltaA',\n",
    " 'tbp_tile_type', 'tbp_lv_Hext', 'tbp_lv_C', 'tbp_lv_norm_color', 'tbp_lv_deltaB', 'anatom_site_general', 'tbp_lv_x',\n",
    " 'tbp_lv_Aext',  'tbp_lv_Cext', 'tbp_lv_symm_2axis_angle', 'tbp_lv_nevi_confidence', 'tbp_lv_z', 'tbp_lv_area_perim_ratio']"
   ]
  },
  {
   "cell_type": "code",
   "execution_count": 5,
   "id": "ada943b3",
   "metadata": {
    "execution": {
     "iopub.execute_input": "2025-01-14T06:57:16.142704Z",
     "iopub.status.busy": "2025-01-14T06:57:16.142295Z",
     "iopub.status.idle": "2025-01-14T06:57:16.147832Z",
     "shell.execute_reply": "2025-01-14T06:57:16.146524Z"
    },
    "papermill": {
     "duration": 0.016901,
     "end_time": "2025-01-14T06:57:16.150229",
     "exception": false,
     "start_time": "2025-01-14T06:57:16.133328",
     "status": "completed"
    },
    "tags": []
   },
   "outputs": [],
   "source": [
    "# patient_id: Unique patient identifier. (object)\n",
    "# image_type: Structured field of the ISIC Archive for image type. (o)\n",
    "# copyright_license: Copyright license. (object)\n",
    "to_drop = ['isic_id','patient_id','image_type', 'copyright_license', 'attribution']"
   ]
  },
  {
   "cell_type": "code",
   "execution_count": 6,
   "id": "f0353c44",
   "metadata": {
    "execution": {
     "iopub.execute_input": "2025-01-14T06:57:16.166636Z",
     "iopub.status.busy": "2025-01-14T06:57:16.166226Z",
     "iopub.status.idle": "2025-01-14T06:57:16.176113Z",
     "shell.execute_reply": "2025-01-14T06:57:16.174817Z"
    },
    "papermill": {
     "duration": 0.021826,
     "end_time": "2025-01-14T06:57:16.179260",
     "exception": false,
     "start_time": "2025-01-14T06:57:16.157434",
     "status": "completed"
    },
    "tags": []
   },
   "outputs": [],
   "source": [
    "# categorical columns \n",
    "cat_cols_list = ['sex',\n",
    "                 'tbp_lv_location_simple', \n",
    "                 'tbp_lv_location', \n",
    "                 'tbp_tile_type', \n",
    "                 'anatom_site_general']\n",
    "\n",
    "# mapping \n",
    "sex = {'male':0, 'female':1}\n",
    "\n",
    "tbp_lv_location_simple =  {'Head & Neck': 0, \n",
    "                           'Left Arm': 1, \n",
    "                           'Left Leg': 2, \n",
    "                           'Right Arm': 3, \n",
    "                           'Right Leg': 4, \n",
    "                           'Torso Back': 5, \n",
    "                           'Torso Front': 6}\n",
    "\n",
    "tbp_lv_location = {'Head & Neck': 0, 'Left Arm': 1,'Left Arm - Lower': 2, 'Left Arm - Upper': 3,'Left Leg': 4, \n",
    "                   'Left Leg - Lower': 5, 'Left Leg - Upper': 6, 'Right Arm': 7, 'Right Arm - Lower': 8, 'Right Arm - Upper': 9, 'Right Leg': 10, 'Right Leg - Lower': 11,\n",
    "  'Right Leg - Upper': 12, 'Torso Back': 13, 'Torso Back Bottom Third': 14, 'Torso Back Middle Third': 15, 'Torso Back Top Third': 16,\n",
    "  'Torso Front': 17, 'Torso Front Bottom Half': 18, 'Torso Front Top Half': 19}\n",
    "\n",
    "tbp_tile_type = {'3D: XP': 0, '3D: white': 1}\n",
    "\n",
    "anatom_site_general = {'anterior torso': 0, 'head/neck': 1, 'lower extremity': 2, 'posterior torso': 3, 'upper extremity': 4}\n",
    "\n",
    "# genral dictionary\n",
    "cat_cols = {'sex': sex, \n",
    "           'tbp_lv_location_simple':tbp_lv_location_simple, \n",
    "           'tbp_lv_location': tbp_lv_location, \n",
    "           'tbp_tile_type':tbp_tile_type,\n",
    "           'anatom_site_general': anatom_site_general}"
   ]
  },
  {
   "cell_type": "markdown",
   "id": "4a9ff293",
   "metadata": {
    "papermill": {
     "duration": 0.007435,
     "end_time": "2025-01-14T06:57:16.194227",
     "exception": false,
     "start_time": "2025-01-14T06:57:16.186792",
     "status": "completed"
    },
    "tags": []
   },
   "source": [
    "The Feature Extraction Section uses Chi-Square, ANOVA F-score, Fisher score and mRMR method to identify the most relevat features. Then Intersection is used to find the common features.  \n",
    "\n",
    "Chi 2: 27 \\\n",
    "ANOVA:32 \\\n",
    "Fisher:32 \\\n",
    "mRMR:22 \\\n",
    "Common features:15"
   ]
  },
  {
   "cell_type": "code",
   "execution_count": 7,
   "id": "85e885b9",
   "metadata": {
    "execution": {
     "iopub.execute_input": "2025-01-14T06:57:16.209693Z",
     "iopub.status.busy": "2025-01-14T06:57:16.209237Z",
     "iopub.status.idle": "2025-01-14T06:57:16.216955Z",
     "shell.execute_reply": "2025-01-14T06:57:16.215565Z"
    },
    "papermill": {
     "duration": 0.018529,
     "end_time": "2025-01-14T06:57:16.219538",
     "exception": false,
     "start_time": "2025-01-14T06:57:16.201009",
     "status": "completed"
    },
    "tags": []
   },
   "outputs": [
    {
     "name": "stdout",
     "output_type": "stream",
     "text": [
      "16 selected columns +1 target  = 17\n"
     ]
    }
   ],
   "source": [
    "intersection_cols = ['sex', 'clin_size_long_diam_mm', 'tbp_lv_A', 'tbp_lv_Aext', 'tbp_lv_B', 'tbp_lv_areaMM2',\n",
    "  'tbp_lv_color_std_mean', 'tbp_lv_deltaL', 'tbp_lv_deltaLB', 'tbp_lv_location', 'tbp_lv_location_simple',\n",
    "  'tbp_lv_minorAxisMM', 'tbp_lv_norm_color', 'tbp_lv_perimeterMM', 'tbp_lv_radial_color_std_max',\n",
    "  'tbp_lv_stdL']\n",
    "\n",
    "intersection_cols.append('target')\n",
    "print(f'16 selected columns +1 target  = {len(intersection_cols)}')"
   ]
  },
  {
   "cell_type": "markdown",
   "id": "3b91ea45",
   "metadata": {
    "papermill": {
     "duration": 0.006612,
     "end_time": "2025-01-14T06:57:16.232858",
     "exception": false,
     "start_time": "2025-01-14T06:57:16.226246",
     "status": "completed"
    },
    "tags": []
   },
   "source": [
    "# Classes"
   ]
  },
  {
   "cell_type": "code",
   "execution_count": 8,
   "id": "a238f374",
   "metadata": {
    "execution": {
     "iopub.execute_input": "2025-01-14T06:57:16.248277Z",
     "iopub.status.busy": "2025-01-14T06:57:16.247818Z",
     "iopub.status.idle": "2025-01-14T06:57:16.259896Z",
     "shell.execute_reply": "2025-01-14T06:57:16.258312Z"
    },
    "papermill": {
     "duration": 0.022806,
     "end_time": "2025-01-14T06:57:16.262374",
     "exception": false,
     "start_time": "2025-01-14T06:57:16.239568",
     "status": "completed"
    },
    "tags": []
   },
   "outputs": [],
   "source": [
    "class Data:\n",
    "    \n",
    "    def __init__(self, path, common_columns, categorical_cols, target_col):\n",
    "        self.path = path\n",
    "        self.common_columns = common_columns\n",
    "        self.categorical_cols = categorical_cols\n",
    "        self.target_col = target_col\n",
    "    \n",
    "    def read_data(self):\n",
    "        #read data\n",
    "        self.df = pd.read_csv(self.path,  low_memory=False)\n",
    "        print(f'Data Shape:{self.df.shape}')\n",
    "\n",
    "    def data_prep(self):\n",
    "        \n",
    "        if self.target_col: \n",
    "            self.common_columns.append('target')      \n",
    "            \n",
    "        self.df = self.df[self.common_columns] # df with common cols+target \n",
    "        print(f'Common Cols:{len(self.common_columns)}.Data Shape: {self.df.shape}')  \n",
    "        \n",
    "        # drop missing values\n",
    "        missing_vals = self.df.isnull().sum().sum()\n",
    "        if missing_vals > 0:\n",
    "            self.df = self.df.dropna()\n",
    "            self.df = self.df.reset_index (drop = True)\n",
    "            \n",
    "        print(f'Missing Vals:{missing_vals}.Data Shape: {self.df.shape}')\n",
    "        \n",
    "        # remove dublicate \n",
    "        print(f'Dublicate Values:{self.df.duplicated().sum()}') # no dublicated values \n",
    "        \n",
    "        #columns mapping\n",
    "        for key in self.categorical_cols.keys():\n",
    "            self.df[key] = self.df[key].map(self.categorical_cols[key])\n",
    "        \n",
    "        # Scaling columns \n",
    "        scaling_lst = list(self.df.select_dtypes(exclude=['int64']).dtypes.index)\n",
    "        # categorical columns with more than 2 unique values\n",
    "        scaling_lst.append('tbp_lv_symm_2axis_angle')\n",
    "        scaling_lst.append('tbp_lv_location_simple')\n",
    "        scaling_lst.append('tbp_lv_location')\n",
    "        scaling_lst.append('anatom_site_general')\n",
    "\n",
    "        scaler = StandardScaler()\n",
    "        self.df[scaling_lst] = scaler.fit_transform(self.df[scaling_lst])\n",
    "        \n",
    "        # shuflle data\n",
    "        self.df = self.df.sample(frac=1).reset_index(drop=True)\n",
    "        print(f'Data Shape: {self.df.shape}')\n",
    "        \n",
    "        if self.target_col:\n",
    "            self.common_columns.remove('target')\n",
    "            \n",
    "        print(f'Final Shape: {self.df.shape}')\n",
    "        \n",
    "    def get_data(self):\n",
    "        return self.df\n",
    "        "
   ]
  },
  {
   "cell_type": "code",
   "execution_count": 9,
   "id": "e2324512",
   "metadata": {
    "execution": {
     "iopub.execute_input": "2025-01-14T06:57:16.278960Z",
     "iopub.status.busy": "2025-01-14T06:57:16.278422Z",
     "iopub.status.idle": "2025-01-14T06:57:16.291536Z",
     "shell.execute_reply": "2025-01-14T06:57:16.289280Z"
    },
    "papermill": {
     "duration": 0.024586,
     "end_time": "2025-01-14T06:57:16.294213",
     "exception": false,
     "start_time": "2025-01-14T06:57:16.269627",
     "status": "completed"
    },
    "tags": []
   },
   "outputs": [],
   "source": [
    "class DataFrame_Split:\n",
    "    \"\"\"\n",
    "    Aim: create two sub-datasets from the main data file. \n",
    "    Each sub-dataset should:\n",
    "        Contain the same number of attack instances.\n",
    "        Have an equal of normal samples.\n",
    "    Return: List of Dfs \n",
    "    \"\"\"\n",
    "    def __init__(self, df):\n",
    "        self.df = df  \n",
    "        \n",
    "        # normal // mal index \n",
    "        norm_indx = self.df[self.df['target'] == 0].index.to_list()\n",
    "        mal_indx = self.df[self.df['target'] == 1].index.to_list()\n",
    "        \n",
    "        # normal // mal df\n",
    "        self.norm_df = self.df.iloc[norm_indx]\n",
    "        self.mal_df = self.df.iloc[mal_indx]\n",
    "        print(f'Malicus df: {self.mal_df.shape} .... Normal df: {self.norm_df.shape}')\n",
    "        \n",
    "    def create_random_subsets(self, data, n_splits):\n",
    "        shuffled_data = data.sample(frac=1).reset_index(drop=True) # Shuffle the dataset\n",
    "        avg_size = len(shuffled_data) // n_splits # size of each subset\n",
    "\n",
    "        subsets = []\n",
    "        for i in range(n_splits):\n",
    "            start_idx = i * avg_size\n",
    "            if i == n_splits - 1:  # Make sure the last split gets all remaining data\n",
    "                subsets.append(shuffled_data[start_idx:])\n",
    "            else:\n",
    "                subsets.append(shuffled_data[start_idx:start_idx + avg_size])\n",
    "        \n",
    "        return  subsets\n",
    "        \n",
    "                \n",
    "    def main(self):\n",
    "        norm_sub_dfs = self.create_random_subsets(self.norm_df, n_splits=2)\n",
    "        \n",
    "        self.sub_dfs = []\n",
    "        for i in range(len(norm_sub_dfs)): \n",
    "            \n",
    "            sub_df = pd.concat([norm_sub_dfs[i], self.mal_df], ignore_index=True) # concat dfs \n",
    "            sub_df = sub_df.sample(frac=1).reset_index(drop=True) # suffle \n",
    "            print(f'Data_{i}: {sub_df.shape}')\n",
    "            self.sub_dfs.append(sub_df)\n",
    "                \n",
    "    def get_sub_df(self):\n",
    "        return  self.sub_dfs"
   ]
  },
  {
   "cell_type": "code",
   "execution_count": 10,
   "id": "c7fb30cd",
   "metadata": {
    "execution": {
     "iopub.execute_input": "2025-01-14T06:57:16.311325Z",
     "iopub.status.busy": "2025-01-14T06:57:16.310895Z",
     "iopub.status.idle": "2025-01-14T06:57:16.322948Z",
     "shell.execute_reply": "2025-01-14T06:57:16.321564Z"
    },
    "papermill": {
     "duration": 0.024186,
     "end_time": "2025-01-14T06:57:16.325899",
     "exception": false,
     "start_time": "2025-01-14T06:57:16.301713",
     "status": "completed"
    },
    "tags": []
   },
   "outputs": [],
   "source": [
    "class Ratio_data():\n",
    "    \n",
    "    def __init__(self, df, ratio):\n",
    "        self.df = df\n",
    "        self.ratio = ratio # [0, 1]\n",
    "    \n",
    "    def data_ratio(self):\n",
    "        norm_indx = self.df[self.df.target == 0].index.to_list()\n",
    "        mal_indx = self.df[self.df.target == 1].index.to_list()\n",
    "        \n",
    "        # random select ratio of the normal data \n",
    "        norm_rand_indx = random.sample(norm_indx, int(len(norm_indx)*self.ratio) )\n",
    "        \n",
    "        # select random ratio \n",
    "        train_df_norm = self.df.iloc[norm_rand_indx]\n",
    "        train_df_mal = self.df.iloc[mal_indx]\n",
    "\n",
    "        self.sub_df = pd.concat([train_df_norm, train_df_mal])\n",
    "        self.sub_df = self.sub_df.sample(frac=1).reset_index(drop=True) # suffle\n",
    "        \n",
    "        \n",
    "    def split_data(self, test_size = 0.2):\n",
    "        features, targ = self.sub_df.columns[:-1], self.sub_df.columns[-1] # features / target\n",
    "        self.X, self.y = self.sub_df[features], self.sub_df[targ]\n",
    "        # train test split\n",
    "        self.X_train, self.X_test, self.y_train, self.y_test = train_test_split(self.X, self.y, test_size=test_size, stratify=self.y)\n",
    "        print(f'Xtrain:{self.X_train.shape} // ytrain:{self.y_train.shape}\\nXval:{self.X_test.shape} // yval:{self.y_test.shape}')\n",
    "        print(f'ytrain {self.y_train.value_counts()}')\n",
    "        print(f'ytest {self.y_test.value_counts()}')\n",
    "        \n",
    "    \n",
    "    def train_smote(self):\n",
    "        sm = SMOTE(sampling_strategy = 0.5)\n",
    "        self.X_res, self.y_res = sm.fit_resample(self.X_train, self.y_train)\n",
    "        print(f'Smote Data:{self.X_res.shape}\\nTarget:{self.y_res.value_counts()}')\n",
    "        \n",
    "    def get_X_y(self):\n",
    "        return self.X, self.y\n",
    "    \n",
    "    def get_balance_data(self):\n",
    "         return self.X_res, self.y_res, self.X_test, self.y_test\n",
    "        \n",
    "    def get_imbalance_data(self):\n",
    "        return self.X_train, self.y_train, self.X_test, self.y_test"
   ]
  },
  {
   "cell_type": "code",
   "execution_count": 11,
   "id": "2237d839",
   "metadata": {
    "execution": {
     "iopub.execute_input": "2025-01-14T06:57:16.341813Z",
     "iopub.status.busy": "2025-01-14T06:57:16.341354Z",
     "iopub.status.idle": "2025-01-14T06:57:16.348871Z",
     "shell.execute_reply": "2025-01-14T06:57:16.347412Z"
    },
    "papermill": {
     "duration": 0.017981,
     "end_time": "2025-01-14T06:57:16.350982",
     "exception": false,
     "start_time": "2025-01-14T06:57:16.333001",
     "status": "completed"
    },
    "tags": []
   },
   "outputs": [],
   "source": [
    "def features_dist_plot(df):\n",
    "    \n",
    "    plt.figure(figsize=(20, 20)) \n",
    "    \n",
    "    # Loop through the first 15 features and create a subplot for each\n",
    "    for i, feature in enumerate(df.columns):\n",
    "        plt.subplot(5, 3, i + 1)  # 5 rows, 3 columns for 15 plots\n",
    "        sns.histplot(df[feature], kde=True, color='blue')\n",
    "        plt.title(f'Distribution of {feature}')\n",
    "        plt.xlabel(feature)\n",
    "        plt.ylabel('Frequency')\n",
    "\n",
    "    # Adjust layout to prevent overlap\n",
    "    plt.tight_layout()\n",
    "    plt.show()\n",
    "    \n",
    "# features_dist_plot(X_train)"
   ]
  },
  {
   "cell_type": "code",
   "execution_count": 12,
   "id": "7f908c38",
   "metadata": {
    "execution": {
     "iopub.execute_input": "2025-01-14T06:57:16.367770Z",
     "iopub.status.busy": "2025-01-14T06:57:16.367258Z",
     "iopub.status.idle": "2025-01-14T06:57:16.385960Z",
     "shell.execute_reply": "2025-01-14T06:57:16.384538Z"
    },
    "papermill": {
     "duration": 0.030424,
     "end_time": "2025-01-14T06:57:16.388598",
     "exception": false,
     "start_time": "2025-01-14T06:57:16.358174",
     "status": "completed"
    },
    "tags": []
   },
   "outputs": [],
   "source": [
    "class Neural_Network:\n",
    "    \n",
    "    def __init__(self, X_train, y_train, X_val, y_val):\n",
    "        self.X_train = X_train\n",
    "        self.y_train = y_train\n",
    "        self.X_val = X_val\n",
    "        self.y_val = y_val\n",
    "        \n",
    "        # Model\n",
    "        self.model = Sequential([\n",
    "            Dense(128, activation= 'relu', input_shape=(16,)),\n",
    "            tf.keras.layers.BatchNormalization(),\n",
    "    \n",
    "            Dense(128, activation= 'relu'),\n",
    "    \n",
    "            Dense(64, activation= 'relu'),\n",
    "            Dense(1, activation= 'sigmoid') # sigmoid/softmax Output layer  \n",
    "            ]) \n",
    "        \n",
    "        self.history = None  # To store training history\n",
    "        \n",
    "\n",
    "    def model_compile(self):\n",
    "        # SGD optimizer for imbalance \n",
    "        optimizer = tf.keras.optimizers.SGD(learning_rate=0.01, momentum=0.9, nesterov=True)\n",
    "        # tf.keras.optimizers.Adam(clipvalue=1.0) // adam\n",
    "        \n",
    "        self.model.compile(\n",
    "            optimizer = optimizer, \n",
    "            loss= tf.keras.losses.BinaryFocalCrossentropy(gamma=2.0, alpha=0.25, \n",
    "                                                       from_logits=False),\n",
    "            metrics=['accuracy']\n",
    "                            ) # BinaryCrossentropy\n",
    "    \n",
    "    def model_summary(self):\n",
    "        print(self.model.summary())\n",
    "        \n",
    "    def model_fit(self):\n",
    "        # Class Weights\n",
    "        # # Calculate class weights for the current fold\n",
    "        # class_weights = class_weight.compute_class_weight(class_weight='balanced', classes=np.unique(y_train), y=y_train)\n",
    "        # class_weights = {0: class_weights[0], 1: class_weights[1]}\n",
    "\n",
    "        class_weights = {0: 0.5099934469200524, 1: 25.516393442622952} # no balance data\n",
    "        self.history = self.model.fit(\n",
    "                    self.X_train.values, self.y_train.values, \n",
    "                    validation_data=(self.X_val.values, self.y_val.values), \n",
    "                    epochs=25, \n",
    "                    batch_size=128, \n",
    "                    class_weight=class_weights\n",
    "                    ) # callbacks=[early_stop], \n",
    "    def model_history(self):\n",
    "        # Loss Curves\n",
    "        plt.figure(figsize=[8,6])\n",
    "        plt.plot(self.history.history['loss'],'r',linewidth=3.0)\n",
    "        plt.plot(self.history.history['val_loss'],'b',linewidth=3.0)\n",
    "        plt.legend(['Training loss', 'Validation Loss'],fontsize=10)\n",
    "        plt.xlabel('Epochs ',fontsize=10)\n",
    "        plt.ylabel('Loss',fontsize=10)\n",
    "        plt.title('Loss Curves',fontsize=10)\n",
    "\n",
    "        # ccuracy Curves\n",
    "        plt.figure(figsize=[8,6])\n",
    "        plt.plot(self.history.history['accuracy'],'r',linewidth=3.0)\n",
    "        plt.plot(self.history.history['val_accuracy'],'b',linewidth=3.0)\n",
    "        plt.legend(['Training Accuracy', 'Validation Accuracy'],fontsize=10)\n",
    "        plt.xlabel('Epochs ',fontsize=10)\n",
    "        plt.ylabel('Accuracy',fontsize=10)\n",
    "        plt.title('Accuracy Curves',fontsize=10)\n",
    "\n",
    "        plt.legend()\n",
    "        plt.show()\n",
    "\n",
    "    def model_roc_curve(self):\n",
    "        \n",
    "        y_pred_prob = self.model.predict(self.X_val).ravel()\n",
    "\n",
    "        # Step 5: Compute ROC curve and AUC\n",
    "        fpr, tpr, thresholds = roc_curve(self.y_val, y_pred_prob)\n",
    "        roc_auc = auc(fpr, tpr)\n",
    "\n",
    "        # Step 6: Plot the ROC curve\n",
    "        plt.figure()\n",
    "        plt.plot(fpr, tpr, color='darkorange', lw=2, label='ROC curve (area = %0.2f)' % roc_auc)\n",
    "        plt.plot([0, 1], [0, 1], color='navy', lw=2, linestyle='--')\n",
    "        plt.xlim([0.0, 1.0])\n",
    "        plt.ylim([0.0, 1.0])\n",
    "        plt.xlabel('False Positive Rate')\n",
    "        plt.ylabel('True Positive Rate')\n",
    "        plt.title('Receiver Operating Characteristic')\n",
    "        plt.legend(loc=\"lower right\")\n",
    "        plt.show()\n",
    "\n",
    "            \n",
    "    def get_model(self):\n",
    "        return self.model"
   ]
  },
  {
   "cell_type": "code",
   "execution_count": null,
   "id": "c5a2283b",
   "metadata": {
    "papermill": {
     "duration": 0.006882,
     "end_time": "2025-01-14T06:57:16.402581",
     "exception": false,
     "start_time": "2025-01-14T06:57:16.395699",
     "status": "completed"
    },
    "tags": []
   },
   "outputs": [],
   "source": []
  },
  {
   "cell_type": "markdown",
   "id": "460f82f1",
   "metadata": {
    "papermill": {
     "duration": 0.00681,
     "end_time": "2025-01-14T06:57:16.417278",
     "exception": false,
     "start_time": "2025-01-14T06:57:16.410468",
     "status": "completed"
    },
    "tags": []
   },
   "source": [
    "# Main"
   ]
  },
  {
   "cell_type": "code",
   "execution_count": 13,
   "id": "e056fdc9",
   "metadata": {
    "execution": {
     "iopub.execute_input": "2025-01-14T06:57:16.434177Z",
     "iopub.status.busy": "2025-01-14T06:57:16.433763Z",
     "iopub.status.idle": "2025-01-14T06:57:31.797804Z",
     "shell.execute_reply": "2025-01-14T06:57:31.796315Z"
    },
    "papermill": {
     "duration": 15.375334,
     "end_time": "2025-01-14T06:57:31.800292",
     "exception": false,
     "start_time": "2025-01-14T06:57:16.424958",
     "status": "completed"
    },
    "tags": []
   },
   "outputs": [
    {
     "name": "stdout",
     "output_type": "stream",
     "text": [
      "Data Shape:(401059, 55)\n",
      "Common Cols:40.Data Shape: (401059, 40)\n",
      "Missing Vals:20071.Data Shape: (381914, 40)\n",
      "Dublicate Values:0\n",
      "Data Shape: (381914, 40)\n",
      "Final Shape: (381914, 40)\n"
     ]
    }
   ],
   "source": [
    "# train data \n",
    "data_train = Data(path = train_path,\n",
    "                 common_columns = common_cols, \n",
    "                 categorical_cols= cat_cols, \n",
    "                 target_col = True)\n",
    "\n",
    "data_train.read_data() # read data path \n",
    "data_train.data_prep() # data preprocessing \n",
    "\n",
    "train_df = data_train.get_data()"
   ]
  },
  {
   "cell_type": "code",
   "execution_count": 14,
   "id": "856c870f",
   "metadata": {
    "execution": {
     "iopub.execute_input": "2025-01-14T06:57:31.816262Z",
     "iopub.status.busy": "2025-01-14T06:57:31.815870Z",
     "iopub.status.idle": "2025-01-14T06:57:31.851358Z",
     "shell.execute_reply": "2025-01-14T06:57:31.849927Z"
    },
    "papermill": {
     "duration": 0.046459,
     "end_time": "2025-01-14T06:57:31.854122",
     "exception": false,
     "start_time": "2025-01-14T06:57:31.807663",
     "status": "completed"
    },
    "tags": []
   },
   "outputs": [
    {
     "name": "stdout",
     "output_type": "stream",
     "text": [
      "Data Shape:(3, 44)\n",
      "Common Cols:39.Data Shape: (3, 39)\n",
      "Missing Vals:0.Data Shape: (3, 39)\n",
      "Dublicate Values:0\n",
      "Data Shape: (3, 39)\n",
      "Final Shape: (3, 39)\n"
     ]
    }
   ],
   "source": [
    "# test data \n",
    "data_test = Data(path = test_path,\n",
    "                 common_columns = common_cols, \n",
    "                 categorical_cols= cat_cols, \n",
    "                 target_col = False)\n",
    "data_test.read_data()\n",
    "data_test.data_prep()\n",
    "\n",
    "test_df = data_test.get_data()"
   ]
  },
  {
   "cell_type": "markdown",
   "id": "b5cbd9cf",
   "metadata": {
    "papermill": {
     "duration": 0.006796,
     "end_time": "2025-01-14T06:57:31.868668",
     "exception": false,
     "start_time": "2025-01-14T06:57:31.861872",
     "status": "completed"
    },
    "tags": []
   },
   "source": [
    "create sub dataset unseen to the model in order u update models weights"
   ]
  },
  {
   "cell_type": "code",
   "execution_count": 15,
   "id": "de1c60df",
   "metadata": {
    "execution": {
     "iopub.execute_input": "2025-01-14T06:57:31.887526Z",
     "iopub.status.busy": "2025-01-14T06:57:31.887030Z",
     "iopub.status.idle": "2025-01-14T06:57:31.909770Z",
     "shell.execute_reply": "2025-01-14T06:57:31.908370Z"
    },
    "papermill": {
     "duration": 0.036083,
     "end_time": "2025-01-14T06:57:31.912571",
     "exception": false,
     "start_time": "2025-01-14T06:57:31.876488",
     "status": "completed"
    },
    "tags": []
   },
   "outputs": [
    {
     "name": "stdout",
     "output_type": "stream",
     "text": [
      "Train/Val Data:(381914, 17)\n",
      "Test Data:(3, 16)\n"
     ]
    }
   ],
   "source": [
    "train_df = train_df[intersection_cols]\n",
    "test_df = test_df[intersection_cols[:-1]] # remove target\n",
    "print(f'Train/Val Data:{train_df.shape}\\nTest Data:{test_df.shape}')"
   ]
  },
  {
   "cell_type": "code",
   "execution_count": 16,
   "id": "189ced6d",
   "metadata": {
    "execution": {
     "iopub.execute_input": "2025-01-14T06:57:31.930309Z",
     "iopub.status.busy": "2025-01-14T06:57:31.929888Z",
     "iopub.status.idle": "2025-01-14T06:57:32.169958Z",
     "shell.execute_reply": "2025-01-14T06:57:32.168188Z"
    },
    "papermill": {
     "duration": 0.252635,
     "end_time": "2025-01-14T06:57:32.172954",
     "exception": false,
     "start_time": "2025-01-14T06:57:31.920319",
     "status": "completed"
    },
    "tags": []
   },
   "outputs": [
    {
     "name": "stdout",
     "output_type": "stream",
     "text": [
      "Malicus df: (381, 17) .... Normal df: (381533, 17)\n",
      "Data_0: (191147, 17)\n",
      "Data_1: (191148, 17)\n"
     ]
    }
   ],
   "source": [
    "dfs_splits = DataFrame_Split(train_df)\n",
    "\n",
    "dfs_splits.main()\n",
    "sub_dfs = dfs_splits.get_sub_df()\n",
    "\n",
    "train_df_ratio_smote, update_train_df = sub_dfs[0], sub_dfs[1]"
   ]
  },
  {
   "cell_type": "code",
   "execution_count": 17,
   "id": "43bdaa80",
   "metadata": {
    "execution": {
     "iopub.execute_input": "2025-01-14T06:57:32.190001Z",
     "iopub.status.busy": "2025-01-14T06:57:32.189544Z",
     "iopub.status.idle": "2025-01-14T06:57:32.329691Z",
     "shell.execute_reply": "2025-01-14T06:57:32.328466Z"
    },
    "papermill": {
     "duration": 0.151677,
     "end_time": "2025-01-14T06:57:32.332291",
     "exception": false,
     "start_time": "2025-01-14T06:57:32.180614",
     "status": "completed"
    },
    "tags": []
   },
   "outputs": [
    {
     "name": "stdout",
     "output_type": "stream",
     "text": [
      "Xtrain:(15565, 16) // ytrain:(15565,)\n",
      "Xval:(3892, 16) // yval:(3892,)\n",
      "ytrain target\n",
      "0    15260\n",
      "1      305\n",
      "Name: count, dtype: int64\n",
      "ytest target\n",
      "0    3816\n",
      "1      76\n",
      "Name: count, dtype: int64\n",
      "Smote Data:(22890, 16)\n",
      "Target:target\n",
      "0    15260\n",
      "1     7630\n",
      "Name: count, dtype: int64\n"
     ]
    }
   ],
   "source": [
    "split = Ratio_data(df = train_df_ratio_smote, \n",
    "                         ratio = 0.1)\n",
    "\n",
    "split.data_ratio()\n",
    "split.split_data(test_size = 0.2)\n",
    "split.train_smote()\n",
    "\n",
    "#X_train, y_train, X_val, y_val = split.get_imbalance_data()\n",
    "X_train_res, y_train_res, X_val, y_val = split.get_balance_data()"
   ]
  },
  {
   "cell_type": "code",
   "execution_count": 18,
   "id": "51f5c37e",
   "metadata": {
    "execution": {
     "iopub.execute_input": "2025-01-14T06:57:32.349625Z",
     "iopub.status.busy": "2025-01-14T06:57:32.348719Z",
     "iopub.status.idle": "2025-01-14T06:57:54.952963Z",
     "shell.execute_reply": "2025-01-14T06:57:54.951116Z"
    },
    "papermill": {
     "duration": 22.61653,
     "end_time": "2025-01-14T06:57:54.956214",
     "exception": false,
     "start_time": "2025-01-14T06:57:32.339684",
     "status": "completed"
    },
    "tags": []
   },
   "outputs": [
    {
     "data": {
      "text/html": [
       "<pre style=\"white-space:pre;overflow-x:auto;line-height:normal;font-family:Menlo,'DejaVu Sans Mono',consolas,'Courier New',monospace\"><span style=\"font-weight: bold\">Model: \"sequential\"</span>\n",
       "</pre>\n"
      ],
      "text/plain": [
       "\u001b[1mModel: \"sequential\"\u001b[0m\n"
      ]
     },
     "metadata": {},
     "output_type": "display_data"
    },
    {
     "data": {
      "text/html": [
       "<pre style=\"white-space:pre;overflow-x:auto;line-height:normal;font-family:Menlo,'DejaVu Sans Mono',consolas,'Courier New',monospace\">┏━━━━━━━━━━━━━━━━━━━━━━━━━━━━━━━━━┳━━━━━━━━━━━━━━━━━━━━━━━━┳━━━━━━━━━━━━━━━┓\n",
       "┃<span style=\"font-weight: bold\"> Layer (type)                    </span>┃<span style=\"font-weight: bold\"> Output Shape           </span>┃<span style=\"font-weight: bold\">       Param # </span>┃\n",
       "┡━━━━━━━━━━━━━━━━━━━━━━━━━━━━━━━━━╇━━━━━━━━━━━━━━━━━━━━━━━━╇━━━━━━━━━━━━━━━┩\n",
       "│ dense (<span style=\"color: #0087ff; text-decoration-color: #0087ff\">Dense</span>)                   │ (<span style=\"color: #00d7ff; text-decoration-color: #00d7ff\">None</span>, <span style=\"color: #00af00; text-decoration-color: #00af00\">128</span>)            │         <span style=\"color: #00af00; text-decoration-color: #00af00\">2,176</span> │\n",
       "├─────────────────────────────────┼────────────────────────┼───────────────┤\n",
       "│ batch_normalization             │ (<span style=\"color: #00d7ff; text-decoration-color: #00d7ff\">None</span>, <span style=\"color: #00af00; text-decoration-color: #00af00\">128</span>)            │           <span style=\"color: #00af00; text-decoration-color: #00af00\">512</span> │\n",
       "│ (<span style=\"color: #0087ff; text-decoration-color: #0087ff\">BatchNormalization</span>)            │                        │               │\n",
       "├─────────────────────────────────┼────────────────────────┼───────────────┤\n",
       "│ dense_1 (<span style=\"color: #0087ff; text-decoration-color: #0087ff\">Dense</span>)                 │ (<span style=\"color: #00d7ff; text-decoration-color: #00d7ff\">None</span>, <span style=\"color: #00af00; text-decoration-color: #00af00\">128</span>)            │        <span style=\"color: #00af00; text-decoration-color: #00af00\">16,512</span> │\n",
       "├─────────────────────────────────┼────────────────────────┼───────────────┤\n",
       "│ dense_2 (<span style=\"color: #0087ff; text-decoration-color: #0087ff\">Dense</span>)                 │ (<span style=\"color: #00d7ff; text-decoration-color: #00d7ff\">None</span>, <span style=\"color: #00af00; text-decoration-color: #00af00\">64</span>)             │         <span style=\"color: #00af00; text-decoration-color: #00af00\">8,256</span> │\n",
       "├─────────────────────────────────┼────────────────────────┼───────────────┤\n",
       "│ dense_3 (<span style=\"color: #0087ff; text-decoration-color: #0087ff\">Dense</span>)                 │ (<span style=\"color: #00d7ff; text-decoration-color: #00d7ff\">None</span>, <span style=\"color: #00af00; text-decoration-color: #00af00\">1</span>)              │            <span style=\"color: #00af00; text-decoration-color: #00af00\">65</span> │\n",
       "└─────────────────────────────────┴────────────────────────┴───────────────┘\n",
       "</pre>\n"
      ],
      "text/plain": [
       "┏━━━━━━━━━━━━━━━━━━━━━━━━━━━━━━━━━┳━━━━━━━━━━━━━━━━━━━━━━━━┳━━━━━━━━━━━━━━━┓\n",
       "┃\u001b[1m \u001b[0m\u001b[1mLayer (type)                   \u001b[0m\u001b[1m \u001b[0m┃\u001b[1m \u001b[0m\u001b[1mOutput Shape          \u001b[0m\u001b[1m \u001b[0m┃\u001b[1m \u001b[0m\u001b[1m      Param #\u001b[0m\u001b[1m \u001b[0m┃\n",
       "┡━━━━━━━━━━━━━━━━━━━━━━━━━━━━━━━━━╇━━━━━━━━━━━━━━━━━━━━━━━━╇━━━━━━━━━━━━━━━┩\n",
       "│ dense (\u001b[38;5;33mDense\u001b[0m)                   │ (\u001b[38;5;45mNone\u001b[0m, \u001b[38;5;34m128\u001b[0m)            │         \u001b[38;5;34m2,176\u001b[0m │\n",
       "├─────────────────────────────────┼────────────────────────┼───────────────┤\n",
       "│ batch_normalization             │ (\u001b[38;5;45mNone\u001b[0m, \u001b[38;5;34m128\u001b[0m)            │           \u001b[38;5;34m512\u001b[0m │\n",
       "│ (\u001b[38;5;33mBatchNormalization\u001b[0m)            │                        │               │\n",
       "├─────────────────────────────────┼────────────────────────┼───────────────┤\n",
       "│ dense_1 (\u001b[38;5;33mDense\u001b[0m)                 │ (\u001b[38;5;45mNone\u001b[0m, \u001b[38;5;34m128\u001b[0m)            │        \u001b[38;5;34m16,512\u001b[0m │\n",
       "├─────────────────────────────────┼────────────────────────┼───────────────┤\n",
       "│ dense_2 (\u001b[38;5;33mDense\u001b[0m)                 │ (\u001b[38;5;45mNone\u001b[0m, \u001b[38;5;34m64\u001b[0m)             │         \u001b[38;5;34m8,256\u001b[0m │\n",
       "├─────────────────────────────────┼────────────────────────┼───────────────┤\n",
       "│ dense_3 (\u001b[38;5;33mDense\u001b[0m)                 │ (\u001b[38;5;45mNone\u001b[0m, \u001b[38;5;34m1\u001b[0m)              │            \u001b[38;5;34m65\u001b[0m │\n",
       "└─────────────────────────────────┴────────────────────────┴───────────────┘\n"
      ]
     },
     "metadata": {},
     "output_type": "display_data"
    },
    {
     "data": {
      "text/html": [
       "<pre style=\"white-space:pre;overflow-x:auto;line-height:normal;font-family:Menlo,'DejaVu Sans Mono',consolas,'Courier New',monospace\"><span style=\"font-weight: bold\"> Total params: </span><span style=\"color: #00af00; text-decoration-color: #00af00\">27,521</span> (107.50 KB)\n",
       "</pre>\n"
      ],
      "text/plain": [
       "\u001b[1m Total params: \u001b[0m\u001b[38;5;34m27,521\u001b[0m (107.50 KB)\n"
      ]
     },
     "metadata": {},
     "output_type": "display_data"
    },
    {
     "data": {
      "text/html": [
       "<pre style=\"white-space:pre;overflow-x:auto;line-height:normal;font-family:Menlo,'DejaVu Sans Mono',consolas,'Courier New',monospace\"><span style=\"font-weight: bold\"> Trainable params: </span><span style=\"color: #00af00; text-decoration-color: #00af00\">27,265</span> (106.50 KB)\n",
       "</pre>\n"
      ],
      "text/plain": [
       "\u001b[1m Trainable params: \u001b[0m\u001b[38;5;34m27,265\u001b[0m (106.50 KB)\n"
      ]
     },
     "metadata": {},
     "output_type": "display_data"
    },
    {
     "data": {
      "text/html": [
       "<pre style=\"white-space:pre;overflow-x:auto;line-height:normal;font-family:Menlo,'DejaVu Sans Mono',consolas,'Courier New',monospace\"><span style=\"font-weight: bold\"> Non-trainable params: </span><span style=\"color: #00af00; text-decoration-color: #00af00\">256</span> (1.00 KB)\n",
       "</pre>\n"
      ],
      "text/plain": [
       "\u001b[1m Non-trainable params: \u001b[0m\u001b[38;5;34m256\u001b[0m (1.00 KB)\n"
      ]
     },
     "metadata": {},
     "output_type": "display_data"
    },
    {
     "name": "stdout",
     "output_type": "stream",
     "text": [
      "None\n",
      "Epoch 1/25\n",
      "\u001b[1m179/179\u001b[0m \u001b[32m━━━━━━━━━━━━━━━━━━━━\u001b[0m\u001b[37m\u001b[0m \u001b[1m2s\u001b[0m 5ms/step - accuracy: 0.4978 - loss: 0.3922 - val_accuracy: 0.6811 - val_loss: 0.1973\n",
      "Epoch 2/25\n",
      "\u001b[1m179/179\u001b[0m \u001b[32m━━━━━━━━━━━━━━━━━━━━\u001b[0m\u001b[37m\u001b[0m \u001b[1m1s\u001b[0m 4ms/step - accuracy: 0.7525 - loss: 0.1403 - val_accuracy: 0.7636 - val_loss: 0.1681\n",
      "Epoch 3/25\n",
      "\u001b[1m179/179\u001b[0m \u001b[32m━━━━━━━━━━━━━━━━━━━━\u001b[0m\u001b[37m\u001b[0m \u001b[1m1s\u001b[0m 4ms/step - accuracy: 0.8127 - loss: 0.1131 - val_accuracy: 0.7801 - val_loss: 0.1999\n",
      "Epoch 4/25\n",
      "\u001b[1m179/179\u001b[0m \u001b[32m━━━━━━━━━━━━━━━━━━━━\u001b[0m\u001b[37m\u001b[0m \u001b[1m1s\u001b[0m 4ms/step - accuracy: 0.8462 - loss: 0.0971 - val_accuracy: 0.7757 - val_loss: 0.2014\n",
      "Epoch 5/25\n",
      "\u001b[1m179/179\u001b[0m \u001b[32m━━━━━━━━━━━━━━━━━━━━\u001b[0m\u001b[37m\u001b[0m \u001b[1m1s\u001b[0m 4ms/step - accuracy: 0.8579 - loss: 0.0922 - val_accuracy: 0.8425 - val_loss: 0.1338\n",
      "Epoch 6/25\n",
      "\u001b[1m179/179\u001b[0m \u001b[32m━━━━━━━━━━━━━━━━━━━━\u001b[0m\u001b[37m\u001b[0m \u001b[1m1s\u001b[0m 4ms/step - accuracy: 0.8845 - loss: 0.0748 - val_accuracy: 0.8561 - val_loss: 0.1611\n",
      "Epoch 7/25\n",
      "\u001b[1m179/179\u001b[0m \u001b[32m━━━━━━━━━━━━━━━━━━━━\u001b[0m\u001b[37m\u001b[0m \u001b[1m1s\u001b[0m 4ms/step - accuracy: 0.8941 - loss: 0.0703 - val_accuracy: 0.8571 - val_loss: 0.1469\n",
      "Epoch 8/25\n",
      "\u001b[1m179/179\u001b[0m \u001b[32m━━━━━━━━━━━━━━━━━━━━\u001b[0m\u001b[37m\u001b[0m \u001b[1m1s\u001b[0m 4ms/step - accuracy: 0.9060 - loss: 0.0618 - val_accuracy: 0.9021 - val_loss: 0.0914\n",
      "Epoch 9/25\n",
      "\u001b[1m179/179\u001b[0m \u001b[32m━━━━━━━━━━━━━━━━━━━━\u001b[0m\u001b[37m\u001b[0m \u001b[1m1s\u001b[0m 4ms/step - accuracy: 0.9184 - loss: 0.0548 - val_accuracy: 0.8880 - val_loss: 0.1216\n",
      "Epoch 10/25\n",
      "\u001b[1m179/179\u001b[0m \u001b[32m━━━━━━━━━━━━━━━━━━━━\u001b[0m\u001b[37m\u001b[0m \u001b[1m1s\u001b[0m 4ms/step - accuracy: 0.9212 - loss: 0.0515 - val_accuracy: 0.9083 - val_loss: 0.0818\n",
      "Epoch 11/25\n",
      "\u001b[1m179/179\u001b[0m \u001b[32m━━━━━━━━━━━━━━━━━━━━\u001b[0m\u001b[37m\u001b[0m \u001b[1m1s\u001b[0m 4ms/step - accuracy: 0.9236 - loss: 0.0539 - val_accuracy: 0.8918 - val_loss: 0.1153\n",
      "Epoch 12/25\n",
      "\u001b[1m179/179\u001b[0m \u001b[32m━━━━━━━━━━━━━━━━━━━━\u001b[0m\u001b[37m\u001b[0m \u001b[1m1s\u001b[0m 4ms/step - accuracy: 0.9225 - loss: 0.0531 - val_accuracy: 0.8911 - val_loss: 0.1161\n",
      "Epoch 13/25\n",
      "\u001b[1m179/179\u001b[0m \u001b[32m━━━━━━━━━━━━━━━━━━━━\u001b[0m\u001b[37m\u001b[0m \u001b[1m1s\u001b[0m 4ms/step - accuracy: 0.9244 - loss: 0.0516 - val_accuracy: 0.8741 - val_loss: 0.1335\n",
      "Epoch 14/25\n",
      "\u001b[1m179/179\u001b[0m \u001b[32m━━━━━━━━━━━━━━━━━━━━\u001b[0m\u001b[37m\u001b[0m \u001b[1m1s\u001b[0m 4ms/step - accuracy: 0.9231 - loss: 0.0516 - val_accuracy: 0.8764 - val_loss: 0.1413\n",
      "Epoch 15/25\n",
      "\u001b[1m179/179\u001b[0m \u001b[32m━━━━━━━━━━━━━━━━━━━━\u001b[0m\u001b[37m\u001b[0m \u001b[1m1s\u001b[0m 4ms/step - accuracy: 0.9271 - loss: 0.0487 - val_accuracy: 0.9031 - val_loss: 0.0922\n",
      "Epoch 16/25\n",
      "\u001b[1m179/179\u001b[0m \u001b[32m━━━━━━━━━━━━━━━━━━━━\u001b[0m\u001b[37m\u001b[0m \u001b[1m1s\u001b[0m 4ms/step - accuracy: 0.9317 - loss: 0.0471 - val_accuracy: 0.9165 - val_loss: 0.0851\n",
      "Epoch 17/25\n",
      "\u001b[1m179/179\u001b[0m \u001b[32m━━━━━━━━━━━━━━━━━━━━\u001b[0m\u001b[37m\u001b[0m \u001b[1m1s\u001b[0m 4ms/step - accuracy: 0.9490 - loss: 0.0348 - val_accuracy: 0.9152 - val_loss: 0.0931\n",
      "Epoch 18/25\n",
      "\u001b[1m179/179\u001b[0m \u001b[32m━━━━━━━━━━━━━━━━━━━━\u001b[0m\u001b[37m\u001b[0m \u001b[1m1s\u001b[0m 4ms/step - accuracy: 0.9349 - loss: 0.0460 - val_accuracy: 0.9152 - val_loss: 0.0780\n",
      "Epoch 19/25\n",
      "\u001b[1m179/179\u001b[0m \u001b[32m━━━━━━━━━━━━━━━━━━━━\u001b[0m\u001b[37m\u001b[0m \u001b[1m1s\u001b[0m 4ms/step - accuracy: 0.9481 - loss: 0.0349 - val_accuracy: 0.8782 - val_loss: 0.1639\n",
      "Epoch 20/25\n",
      "\u001b[1m179/179\u001b[0m \u001b[32m━━━━━━━━━━━━━━━━━━━━\u001b[0m\u001b[37m\u001b[0m \u001b[1m1s\u001b[0m 4ms/step - accuracy: 0.9318 - loss: 0.0487 - val_accuracy: 0.9096 - val_loss: 0.0963\n",
      "Epoch 21/25\n",
      "\u001b[1m179/179\u001b[0m \u001b[32m━━━━━━━━━━━━━━━━━━━━\u001b[0m\u001b[37m\u001b[0m \u001b[1m1s\u001b[0m 4ms/step - accuracy: 0.9272 - loss: 0.0530 - val_accuracy: 0.9209 - val_loss: 0.0845\n",
      "Epoch 22/25\n",
      "\u001b[1m179/179\u001b[0m \u001b[32m━━━━━━━━━━━━━━━━━━━━\u001b[0m\u001b[37m\u001b[0m \u001b[1m1s\u001b[0m 4ms/step - accuracy: 0.9497 - loss: 0.0344 - val_accuracy: 0.9317 - val_loss: 0.0708\n",
      "Epoch 23/25\n",
      "\u001b[1m179/179\u001b[0m \u001b[32m━━━━━━━━━━━━━━━━━━━━\u001b[0m\u001b[37m\u001b[0m \u001b[1m1s\u001b[0m 5ms/step - accuracy: 0.9559 - loss: 0.0303 - val_accuracy: 0.9311 - val_loss: 0.0825\n",
      "Epoch 24/25\n",
      "\u001b[1m179/179\u001b[0m \u001b[32m━━━━━━━━━━━━━━━━━━━━\u001b[0m\u001b[37m\u001b[0m \u001b[1m1s\u001b[0m 4ms/step - accuracy: 0.9568 - loss: 0.0297 - val_accuracy: 0.9309 - val_loss: 0.0779\n",
      "Epoch 25/25\n",
      "\u001b[1m179/179\u001b[0m \u001b[32m━━━━━━━━━━━━━━━━━━━━\u001b[0m\u001b[37m\u001b[0m \u001b[1m1s\u001b[0m 4ms/step - accuracy: 0.9539 - loss: 0.0316 - val_accuracy: 0.8772 - val_loss: 0.1553\n"
     ]
    },
    {
     "data": {
      "image/png": "[encoded data removed]",
      "text/plain": [
       "<Figure size 800x600 with 1 Axes>"
      ]
     },
     "metadata": {},
     "output_type": "display_data"
    },
    {
     "data": {
      "image/png": "[encoded data removed]",
      "text/plain": [
       "<Figure size 800x600 with 1 Axes>"
      ]
     },
     "metadata": {},
     "output_type": "display_data"
    },
    {
     "name": "stdout",
     "output_type": "stream",
     "text": [
      "\u001b[1m122/122\u001b[0m \u001b[32m━━━━━━━━━━━━━━━━━━━━\u001b[0m\u001b[37m\u001b[0m \u001b[1m0s\u001b[0m 2ms/step\n"
     ]
    },
    {
     "data": {
      "image/png": "[encoded data removed]",
      "text/plain": [
       "<Figure size 640x480 with 1 Axes>"
      ]
     },
     "metadata": {},
     "output_type": "display_data"
    }
   ],
   "source": [
    "nn = Neural_Network(X_train = X_train_res, \n",
    "                    y_train = y_train_res, \n",
    "                    X_val = X_val, \n",
    "                    y_val = y_val) \n",
    "nn.model_compile()\n",
    "nn.model_summary()\n",
    "nn.model_fit()\n",
    "nn.model_history()\n",
    "nn.model_roc_curve()"
   ]
  },
  {
   "cell_type": "code",
   "execution_count": 19,
   "id": "3f8715cd",
   "metadata": {
    "execution": {
     "iopub.execute_input": "2025-01-14T06:57:55.024367Z",
     "iopub.status.busy": "2025-01-14T06:57:55.023999Z",
     "iopub.status.idle": "2025-01-14T06:57:55.029658Z",
     "shell.execute_reply": "2025-01-14T06:57:55.028204Z"
    },
    "papermill": {
     "duration": 0.040051,
     "end_time": "2025-01-14T06:57:55.032128",
     "exception": false,
     "start_time": "2025-01-14T06:57:54.992077",
     "status": "completed"
    },
    "tags": []
   },
   "outputs": [],
   "source": [
    "trained_model = nn.get_model()"
   ]
  },
  {
   "cell_type": "markdown",
   "id": "8a350db1",
   "metadata": {
    "papermill": {
     "duration": 0.031541,
     "end_time": "2025-01-14T06:57:55.094185",
     "exception": false,
     "start_time": "2025-01-14T06:57:55.062644",
     "status": "completed"
    },
    "tags": []
   },
   "source": [
    "Unseen Data "
   ]
  },
  {
   "cell_type": "code",
   "execution_count": 20,
   "id": "6da3427c",
   "metadata": {
    "execution": {
     "iopub.execute_input": "2025-01-14T06:57:55.162049Z",
     "iopub.status.busy": "2025-01-14T06:57:55.161595Z",
     "iopub.status.idle": "2025-01-14T06:57:55.167472Z",
     "shell.execute_reply": "2025-01-14T06:57:55.165934Z"
    },
    "papermill": {
     "duration": 0.042293,
     "end_time": "2025-01-14T06:57:55.169987",
     "exception": false,
     "start_time": "2025-01-14T06:57:55.127694",
     "status": "completed"
    },
    "tags": []
   },
   "outputs": [],
   "source": [
    "unseen_id = [ \"ISIC_0015657\", \"ISIC_0015729\", \"ISIC_0015740\"]"
   ]
  },
  {
   "cell_type": "code",
   "execution_count": 21,
   "id": "c960901a",
   "metadata": {
    "execution": {
     "iopub.execute_input": "2025-01-14T06:57:55.238992Z",
     "iopub.status.busy": "2025-01-14T06:57:55.238567Z",
     "iopub.status.idle": "2025-01-14T06:57:55.333160Z",
     "shell.execute_reply": "2025-01-14T06:57:55.331934Z"
    },
    "papermill": {
     "duration": 0.131922,
     "end_time": "2025-01-14T06:57:55.335678",
     "exception": false,
     "start_time": "2025-01-14T06:57:55.203756",
     "status": "completed"
    },
    "tags": []
   },
   "outputs": [
    {
     "name": "stdout",
     "output_type": "stream",
     "text": [
      "\u001b[1m1/1\u001b[0m \u001b[32m━━━━━━━━━━━━━━━━━━━━\u001b[0m\u001b[37m\u001b[0m \u001b[1m0s\u001b[0m 24ms/step\n"
     ]
    },
    {
     "data": {
      "text/plain": [
       "array([[0.00100946],\n",
       "       [0.02654432],\n",
       "       [0.03305418]], dtype=float32)"
      ]
     },
     "execution_count": 21,
     "metadata": {},
     "output_type": "execute_result"
    }
   ],
   "source": [
    "predictions = trained_model.predict(test_df)\n",
    "predictions"
   ]
  },
  {
   "cell_type": "code",
   "execution_count": 22,
   "id": "d0710059",
   "metadata": {
    "execution": {
     "iopub.execute_input": "2025-01-14T06:57:55.403782Z",
     "iopub.status.busy": "2025-01-14T06:57:55.403287Z",
     "iopub.status.idle": "2025-01-14T06:57:55.413211Z",
     "shell.execute_reply": "2025-01-14T06:57:55.411624Z"
    },
    "papermill": {
     "duration": 0.046804,
     "end_time": "2025-01-14T06:57:55.415900",
     "exception": false,
     "start_time": "2025-01-14T06:57:55.369096",
     "status": "completed"
    },
    "tags": []
   },
   "outputs": [
    {
     "data": {
      "text/plain": [
       "[0.0010094557655975223, 0.026544319465756416, 0.0330541767179966]"
      ]
     },
     "execution_count": 22,
     "metadata": {},
     "output_type": "execute_result"
    }
   ],
   "source": [
    "pred = [p[0].astype(np.float64) for p in predictions ]\n",
    "pred"
   ]
  },
  {
   "cell_type": "code",
   "execution_count": 23,
   "id": "33ec6a59",
   "metadata": {
    "execution": {
     "iopub.execute_input": "2025-01-14T06:57:55.482237Z",
     "iopub.status.busy": "2025-01-14T06:57:55.481793Z",
     "iopub.status.idle": "2025-01-14T06:57:55.488305Z",
     "shell.execute_reply": "2025-01-14T06:57:55.487181Z"
    },
    "papermill": {
     "duration": 0.042216,
     "end_time": "2025-01-14T06:57:55.490644",
     "exception": false,
     "start_time": "2025-01-14T06:57:55.448428",
     "status": "completed"
    },
    "tags": []
   },
   "outputs": [],
   "source": [
    "predictions_df = pd.DataFrame({\"isic_id\":unseen_id, \"target\":pred})"
   ]
  },
  {
   "cell_type": "code",
   "execution_count": 24,
   "id": "056606ce",
   "metadata": {
    "execution": {
     "iopub.execute_input": "2025-01-14T06:57:55.554863Z",
     "iopub.status.busy": "2025-01-14T06:57:55.554386Z",
     "iopub.status.idle": "2025-01-14T06:57:55.573799Z",
     "shell.execute_reply": "2025-01-14T06:57:55.572085Z"
    },
    "papermill": {
     "duration": 0.054692,
     "end_time": "2025-01-14T06:57:55.576547",
     "exception": false,
     "start_time": "2025-01-14T06:57:55.521855",
     "status": "completed"
    },
    "tags": []
   },
   "outputs": [
    {
     "name": "stdout",
     "output_type": "stream",
     "text": [
      "<class 'pandas.core.frame.DataFrame'>\n",
      "RangeIndex: 3 entries, 0 to 2\n",
      "Data columns (total 2 columns):\n",
      " #   Column   Non-Null Count  Dtype  \n",
      "---  ------   --------------  -----  \n",
      " 0   isic_id  3 non-null      object \n",
      " 1   target   3 non-null      float64\n",
      "dtypes: float64(1), object(1)\n",
      "memory usage: 176.0+ bytes\n"
     ]
    }
   ],
   "source": [
    "predictions_df.info()"
   ]
  },
  {
   "cell_type": "code",
   "execution_count": 25,
   "id": "e8b58d72",
   "metadata": {
    "execution": {
     "iopub.execute_input": "2025-01-14T06:57:55.643627Z",
     "iopub.status.busy": "2025-01-14T06:57:55.643089Z",
     "iopub.status.idle": "2025-01-14T06:57:55.653017Z",
     "shell.execute_reply": "2025-01-14T06:57:55.651688Z"
    },
    "papermill": {
     "duration": 0.047792,
     "end_time": "2025-01-14T06:57:55.655800",
     "exception": false,
     "start_time": "2025-01-14T06:57:55.608008",
     "status": "completed"
    },
    "tags": []
   },
   "outputs": [],
   "source": [
    "predictions_df.to_csv(\"submission.csv\", index = False)"
   ]
  }
 ],
 "metadata": {
  "kaggle": {
   "accelerator": "none",
   "dataSources": [
    {
     "databundleVersionId": 9094797,
     "sourceId": 63056,
     "sourceType": "competition"
    }
   ],
   "dockerImageVersionId": 30761,
   "isGpuEnabled": false,
   "isInternetEnabled": false,
   "language": "python",
   "sourceType": "notebook"
  },
  "kernelspec": {
   "display_name": "Python 3",
   "language": "python",
   "name": "python3"
  },
  "language_info": {
   "codemirror_mode": {
    "name": "ipython",
    "version": 3
   },
   "file_extension": ".py",
   "mimetype": "text/x-python",
   "name": "python",
   "nbconvert_exporter": "python",
   "pygments_lexer": "ipython3",
   "version": "3.10.14"
  },
  "papermill": {
   "default_parameters": {},
   "duration": 67.107214,
   "end_time": "2025-01-14T06:57:59.229274",
   "environment_variables": {},
   "exception": null,
   "input_path": "__notebook__.ipynb",
   "output_path": "__notebook__.ipynb",
   "parameters": {},
   "start_time": "2025-01-14T06:56:52.122060",
   "version": "2.6.0"
  }
 },
 "nbformat": 4,
 "nbformat_minor": 5
}
